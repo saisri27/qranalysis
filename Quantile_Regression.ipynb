{
 "cells": [
  {
   "cell_type": "code",
   "execution_count": 26,
   "id": "c632069e",
   "metadata": {},
   "outputs": [],
   "source": [
    "import pandas as pd\n",
    "import statsmodels.formula.api as smf\n",
    "import matplotlib.pyplot as plt\n",
    "import numpy as np\n",
    "import plotly.express as px\n",
    "import statsmodels.api as sm\n",
    "import plotly.io as pio\n",
    "#pio.renderers.default = \"browser\"\n",
    "import plotly.graph_objects as go\n",
    "from plotly.subplots import make_subplots\n",
    "import numpy as np\n",
    "from sklearn.linear_model import LinearRegression\n",
    "from statsmodels.regression.quantile_regression import QuantReg"
   ]
  },
  {
   "cell_type": "code",
   "execution_count": 27,
   "id": "204a8b6c",
   "metadata": {},
   "outputs": [],
   "source": [
    "df = pd.read_csv(\"insurance.csv\") "
   ]
  },
  {
   "cell_type": "code",
   "execution_count": 28,
   "id": "e119f5c6",
   "metadata": {},
   "outputs": [
    {
     "data": {
      "text/plain": [
       "(1338, 7)"
      ]
     },
     "execution_count": 28,
     "metadata": {},
     "output_type": "execute_result"
    }
   ],
   "source": [
    "df.shape"
   ]
  },
  {
   "cell_type": "code",
   "execution_count": 29,
   "id": "9d2dd7c2",
   "metadata": {},
   "outputs": [
    {
     "data": {
      "text/plain": [
       "<bound method NDFrame.head of       age     sex     bmi  children smoker     region      charges\n",
       "0      19  female  27.900         0    yes  southwest  16884.92400\n",
       "1      18    male  33.770         1     no  southeast   1725.55230\n",
       "2      28    male  33.000         3     no  southeast   4449.46200\n",
       "3      33    male  22.705         0     no  northwest  21984.47061\n",
       "4      32    male  28.880         0     no  northwest   3866.85520\n",
       "...   ...     ...     ...       ...    ...        ...          ...\n",
       "1333   50    male  30.970         3     no  northwest  10600.54830\n",
       "1334   18  female  31.920         0     no  northeast   2205.98080\n",
       "1335   18  female  36.850         0     no  southeast   1629.83350\n",
       "1336   21  female  25.800         0     no  southwest   2007.94500\n",
       "1337   61  female  29.070         0    yes  northwest  29141.36030\n",
       "\n",
       "[1338 rows x 7 columns]>"
      ]
     },
     "execution_count": 29,
     "metadata": {},
     "output_type": "execute_result"
    }
   ],
   "source": [
    "df.head"
   ]
  },
  {
   "cell_type": "code",
   "execution_count": 30,
   "id": "08639ca3",
   "metadata": {},
   "outputs": [
    {
     "name": "stdout",
     "output_type": "stream",
     "text": [
      "age         0\n",
      "sex         0\n",
      "bmi         0\n",
      "children    0\n",
      "smoker      0\n",
      "region      0\n",
      "charges     0\n",
      "dtype: int64\n"
     ]
    }
   ],
   "source": [
    "print(df.isnull().sum())  # Yayi Data doesnt have null values "
   ]
  },
  {
   "cell_type": "markdown",
   "id": "dbb07d12",
   "metadata": {},
   "source": [
    "# MLR with Regression Planes: Charges vs Age, BMI & Smoking"
   ]
  },
  {
   "cell_type": "code",
   "execution_count": 31,
   "id": "8361e4e5",
   "metadata": {},
   "outputs": [],
   "source": [
    "import plotly.graph_objects as go\n",
    "import statsmodels.api as sm\n",
    "import pandas as pd\n",
    "import numpy as np\n",
    "\n",
    "mlr_data = df[['age', 'bmi', 'smoker', 'charges']].copy()\n",
    "mlr_data['smoker_yes'] = (mlr_data['smoker'] == 'yes').astype(int)\n",
    "X = mlr_data[['age', 'bmi', 'smoker_yes']]\n",
    "X = sm.add_constant(X)\n",
    "y = mlr_data['charges']\n",
    "mlr_model = sm.OLS(y, X).fit()\n",
    "\n",
    "fig = go.Figure()\n",
    "\n",
    "non_smokers = df[df['smoker'] == 'no']\n",
    "fig.add_trace(go.Scatter3d(\n",
    "    x=non_smokers['age'],\n",
    "    y=non_smokers['bmi'],\n",
    "    z=non_smokers['charges'],\n",
    "    mode='markers',\n",
    "    marker=dict(size=4, color='lightblue', opacity=0.7),\n",
    "    name='Non-smokers',\n",
    "    hovertemplate='Age: %{x}<br>BMI: %{y:.1f}<br>Charges: $%{z:,.0f}<extra></extra>'\n",
    "))\n",
    "\n",
    "smokers = df[df['smoker'] == 'yes']\n",
    "fig.add_trace(go.Scatter3d(\n",
    "    x=smokers['age'],\n",
    "    y=smokers['bmi'],\n",
    "    z=smokers['charges'],\n",
    "    mode='markers',\n",
    "    marker=dict(size=4, color='darkblue', opacity=0.7),\n",
    "    name='Smokers',\n",
    "    hovertemplate='Age: %{x}<br>BMI: %{y:.1f}<br>Charges: $%{z:,.0f}<extra></extra>'\n",
    "))\n",
    "\n",
    "age_range = np.linspace(df['age'].min(), df['age'].max(), 20)\n",
    "bmi_range = np.linspace(df['bmi'].min(), df['bmi'].max(), 20)\n",
    "age_grid, bmi_grid = np.meshgrid(age_range, bmi_range)\n",
    "\n",
    "smoker_0 = np.zeros_like(age_grid.flatten())\n",
    "X_pred_nonsmoker = np.column_stack([\n",
    "    np.ones(len(age_grid.flatten())),  \n",
    "    age_grid.flatten(),                \n",
    "    bmi_grid.flatten(),               \n",
    "    smoker_0                           \n",
    "])\n",
    "z_pred_nonsmoker = mlr_model.predict(X_pred_nonsmoker).reshape(age_grid.shape)\n",
    "\n",
    "fig.add_trace(go.Surface(\n",
    "    x=age_grid, y=bmi_grid, z=z_pred_nonsmoker,\n",
    "    colorscale='Blues', opacity=0.3,\n",
    "    name='Non-smoker Plane',\n",
    "    showscale=False,\n",
    "    hovertemplate='Age: %{x}<br>BMI: %{y:.1f}<br>Predicted: $%{z:,.0f}<extra></extra>'\n",
    "))\n",
    "\n",
    "smoker_1 = np.ones_like(age_grid.flatten())\n",
    "X_pred_smoker = np.column_stack([\n",
    "    np.ones(len(age_grid.flatten())),  \n",
    "    age_grid.flatten(),              \n",
    "    bmi_grid.flatten(),               \n",
    "    smoker_1                           \n",
    "])\n",
    "z_pred_smoker = mlr_model.predict(X_pred_smoker).reshape(age_grid.shape)\n",
    "\n",
    "fig.add_trace(go.Surface(\n",
    "    x=age_grid, y=bmi_grid, z=z_pred_smoker,\n",
    "    colorscale='Reds', opacity=0.3,\n",
    "    name='Smoker Plane',\n",
    "    showscale=False,\n",
    "    hovertemplate='Age: %{x}<br>BMI: %{y:.1f}<br>Predicted: $%{z:,.0f}<extra></extra>'\n",
    "))\n",
    "\n",
    "fig.update_layout(\n",
    "    title=f'MLR with Regression Planes: Charges vs Age, BMI & Smoking ',\n",
    "    scene=dict(\n",
    "        xaxis_title='Age',\n",
    "        yaxis_title='BMI',\n",
    "        zaxis_title='Charges ($)',\n",
    "        camera=dict(eye=dict(x=1.5, y=1.5, z=1.5))\n",
    "    ),\n",
    "    width=900, height=700,\n",
    "    \n",
    "    legend=dict(\n",
    "        x=0.02,  \n",
    "        y=0.98,  \n",
    "        bgcolor=\"rgba(255,255,255,0.8)\",  \n",
    "        bordercolor=\"rgba(0,0,0,0.5)\",   \n",
    "        borderwidth=1,\n",
    "        font=dict(size=16),  \n",
    "        itemsizing=\"constant\",  \n",
    "        itemwidth=40,  \n",
    "        tracegroupgap=10  \n",
    "    )\n",
    ")\n",
    "\n",
    "fig.show()\n",
    "\n"
   ]
  },
  {
   "cell_type": "code",
   "execution_count": 32,
   "id": "5381b591",
   "metadata": {},
   "outputs": [
    {
     "name": "stdout",
     "output_type": "stream",
     "text": [
      "MLR Model Summary:\n",
      "R-squared: 0.7475\n",
      "Adjusted R-squared: 0.7469\n",
      "\n",
      "Coefficients:\n",
      "Intercept: $-11,676.83\n",
      "Age: $259.55 per year\n",
      "BMI: $322.62 per unit\n",
      "Smoker: $23,823.68 (smoker vs non-smoker)\n"
     ]
    },
    {
     "name": "stderr",
     "output_type": "stream",
     "text": [
      "/var/folders/5n/1q0msf196q96hmffxqznx8rm0000gn/T/ipykernel_24251/2661828093.py:5: FutureWarning:\n",
      "\n",
      "Series.__getitem__ treating keys as positions is deprecated. In a future version, integer keys will always be treated as labels (consistent with DataFrame behavior). To access a value by position, use `ser.iloc[pos]`\n",
      "\n",
      "/var/folders/5n/1q0msf196q96hmffxqznx8rm0000gn/T/ipykernel_24251/2661828093.py:6: FutureWarning:\n",
      "\n",
      "Series.__getitem__ treating keys as positions is deprecated. In a future version, integer keys will always be treated as labels (consistent with DataFrame behavior). To access a value by position, use `ser.iloc[pos]`\n",
      "\n",
      "/var/folders/5n/1q0msf196q96hmffxqznx8rm0000gn/T/ipykernel_24251/2661828093.py:7: FutureWarning:\n",
      "\n",
      "Series.__getitem__ treating keys as positions is deprecated. In a future version, integer keys will always be treated as labels (consistent with DataFrame behavior). To access a value by position, use `ser.iloc[pos]`\n",
      "\n",
      "/var/folders/5n/1q0msf196q96hmffxqznx8rm0000gn/T/ipykernel_24251/2661828093.py:8: FutureWarning:\n",
      "\n",
      "Series.__getitem__ treating keys as positions is deprecated. In a future version, integer keys will always be treated as labels (consistent with DataFrame behavior). To access a value by position, use `ser.iloc[pos]`\n",
      "\n"
     ]
    }
   ],
   "source": [
    "print(f\"MLR Model Summary:\")\n",
    "print(f\"R-squared: {mlr_model.rsquared:.4f}\")\n",
    "print(f\"Adjusted R-squared: {mlr_model.rsquared_adj:.4f}\")\n",
    "print(\"\\nCoefficients:\")\n",
    "print(f\"Intercept: ${mlr_model.params[0]:,.2f}\")\n",
    "print(f\"Age: ${mlr_model.params[1]:,.2f} per year\")\n",
    "print(f\"BMI: ${mlr_model.params[2]:,.2f} per unit\")\n",
    "print(f\"Smoker: ${mlr_model.params[3]:,.2f} (smoker vs non-smoker)\")"
   ]
  },
  {
   "cell_type": "markdown",
   "id": "4596dcdc",
   "metadata": {},
   "source": [
    "## Quantile Regression"
   ]
  },
  {
   "cell_type": "markdown",
   "id": "bc8b48f8",
   "metadata": {},
   "source": []
  },
  {
   "cell_type": "code",
   "execution_count": 36,
   "id": "44067b32",
   "metadata": {},
   "outputs": [
    {
     "name": "stderr",
     "output_type": "stream",
     "text": [
      "/opt/anaconda3/envs/msds692/lib/python3.13/site-packages/statsmodels/regression/quantile_regression.py:191: IterationLimitWarning:\n",
      "\n",
      "Maximum number of iterations (1000) reached.\n",
      "\n"
     ]
    }
   ],
   "source": [
    "\n",
    "import plotly.graph_objects as go\n",
    "from statsmodels.regression.quantile_regression import QuantReg\n",
    "\n",
    "age_grid, bmi_grid = np.meshgrid(np.linspace(df['age'].min(), df['age'].max(), 15),\n",
    "                                 np.linspace(df['bmi'].min(), df['bmi'].max(), 15))\n",
    "quantiles = np.arange(0.05, 0.96, 0.05)\n",
    "\n",
    "fig = go.Figure()\n",
    "fig.add_trace(go.Scatter3d(x=df[df['smoker']=='no']['age'], y=df[df['smoker']=='no']['bmi'], \n",
    "                          z=df[df['smoker']=='no']['charges'], mode='markers', \n",
    "                          marker=dict(size=3, color='lightblue', opacity=0.6), name='Non-smokers'))\n",
    "fig.add_trace(go.Scatter3d(x=df[df['smoker']=='yes']['age'], y=df[df['smoker']=='yes']['bmi'], \n",
    "                          z=df[df['smoker']=='yes']['charges'], mode='markers', \n",
    "                          marker=dict(size=3, color='darkblue', opacity=0.6), name='Smokers'))\n",
    "\n",
    "frames = []\n",
    "for q in quantiles:\n",
    "    qr = QuantReg(y, X).fit(q=q)\n",
    "\n",
    "    z_ns = qr.predict(np.column_stack([np.ones(age_grid.size), age_grid.flatten(), \n",
    "                                      bmi_grid.flatten(), np.zeros(age_grid.size)])).reshape(age_grid.shape)\n",
    "    z_s = qr.predict(np.column_stack([np.ones(age_grid.size), age_grid.flatten(), \n",
    "                                     bmi_grid.flatten(), np.ones(age_grid.size)])).reshape(age_grid.shape)\n",
    "    \n",
    "    frames.append(go.Frame(data=[\n",
    "        go.Scatter3d(x=df[df['smoker']=='no']['age'], y=df[df['smoker']=='no']['bmi'], \n",
    "                    z=df[df['smoker']=='no']['charges'], mode='markers', \n",
    "                    marker=dict(size=3, color='lightblue', opacity=0.6), name='Non-smokers'),\n",
    "        go.Scatter3d(x=df[df['smoker']=='yes']['age'], y=df[df['smoker']=='yes']['bmi'], \n",
    "                    z=df[df['smoker']=='yes']['charges'], mode='markers', \n",
    "                    marker=dict(size=3, color='darkblue', opacity=0.6), name='Smokers'),\n",
    "        go.Surface(x=age_grid, y=bmi_grid, z=z_ns, colorscale='Blues', opacity=0.5, \n",
    "                  name=f'Non-smoker τ={q:.2f}', showscale=False),\n",
    "        go.Surface(x=age_grid, y=bmi_grid, z=z_s, colorscale='Reds', opacity=0.5, \n",
    "                  name=f'Smoker τ={q:.2f}', showscale=False)\n",
    "    ], name=str(q)))\n",
    "\n",
    "qr_init = QuantReg(y, X).fit(q=0.5)\n",
    "z_ns_init = qr_init.predict(np.column_stack([np.ones(age_grid.size), age_grid.flatten(), \n",
    "                                            bmi_grid.flatten(), np.zeros(age_grid.size)])).reshape(age_grid.shape)\n",
    "z_s_init = qr_init.predict(np.column_stack([np.ones(age_grid.size), age_grid.flatten(), \n",
    "                                           bmi_grid.flatten(), np.ones(age_grid.size)])).reshape(age_grid.shape)\n",
    "\n",
    "fig.add_trace(go.Surface(x=age_grid, y=bmi_grid, z=z_ns_init, colorscale='Blues', \n",
    "                        opacity=0.5, name='Non-smoker τ=0.5', showscale=False))\n",
    "fig.add_trace(go.Surface(x=age_grid, y=bmi_grid, z=z_s_init, colorscale='Reds', \n",
    "                        opacity=0.5, name='Smoker τ=0.5', showscale=False))\n",
    "\n",
    "fig.frames = frames\n",
    "fig.update_layout(\n",
    "    title=' Quantile Regression',\n",
    "    scene=dict(xaxis_title='Age', yaxis_title='BMI', zaxis_title='Charges ($)',\n",
    "               camera=dict(eye=dict(x=1.5, y=1.5, z=1.5))),\n",
    "    width=900, height=700,\n",
    "    # Added same legend style as MLR\n",
    "    legend=dict(\n",
    "        x=0.02,  \n",
    "        y=0.98,  \n",
    "        bgcolor=\"rgba(255,255,255,0.8)\",  \n",
    "        bordercolor=\"rgba(0,0,0,0.5)\",   \n",
    "        borderwidth=1,\n",
    "        font=dict(size=16),  \n",
    "        itemsizing=\"constant\",  \n",
    "        itemwidth=40,  \n",
    "        tracegroupgap=10  \n",
    "    ),\n",
    "    sliders=[{\n",
    "        'active': 9, 'currentvalue': {'prefix': 'Quantile (τ): '}, 'pad': {'t': 50},\n",
    "        'steps': [{'args': [[q], {'frame': {'duration': 300, 'redraw': True}}], \n",
    "                  'label': f'{q:.2f}', 'method': 'animate'} for q in quantiles]\n",
    "    }]\n",
    ")\n",
    "\n",
    "fig.show()\n"
   ]
  },
  {
   "cell_type": "markdown",
   "id": "76051036",
   "metadata": {},
   "source": [
    "# 2D analysis of Quantile Regression"
   ]
  },
  {
   "cell_type": "code",
   "execution_count": null,
   "id": "9d008619",
   "metadata": {},
   "outputs": [
    {
     "data": {
      "image/png": "[encoded data removed]",
      "text/plain": [
       "<Figure size 1000x400 with 2 Axes>"
      ]
     },
     "metadata": {},
     "output_type": "display_data"
    },
    {
     "name": "stdout",
     "output_type": "stream",
     "text": [
      "Non-smokers: $3,986 | $7,345 | $11,363\n",
      "Smokers:     $20,826 | $34,456 | $41,019\n",
      "Smoker range (20,193) is 2.7x larger than non-smoker range (7,376)\n"
     ]
    }
   ],
   "source": [
    "\n",
    "nonsmoker = df[df['smoker'] == 'no']['charges']\n",
    "smoker = df[df['smoker'] == 'yes']['charges']\n",
    "fig, (ax1, ax2) = plt.subplots(1, 2, figsize=(10, 4))\n",
    "\n",
    "ax1.hist(nonsmoker, bins=20, color='lightblue', alpha=0.8, edgecolor='white')\n",
    "ax1.axvline(nonsmoker.quantile(0.25), color='green', linestyle='--', linewidth=2, label='25th')\n",
    "ax1.axvline(nonsmoker.quantile(0.5), color='orange', linestyle='--', linewidth=2, label='50th')\n",
    "ax1.axvline(nonsmoker.quantile(0.75), color='red', linestyle='--', linewidth=2, label='75th')\n",
    "ax1.set_title('Non-Smokers', fontsize=14, fontweight='bold')\n",
    "ax1.set_xlabel('Insurance Charges ($)')\n",
    "ax1.legend()\n",
    "\n",
    "ax2.hist(smoker, bins=20, color='darkblue', alpha=0.8, edgecolor='white')\n",
    "ax2.axvline(smoker.quantile(0.25), color='green', linestyle='--', linewidth=2, label='25th')\n",
    "ax2.axvline(smoker.quantile(0.5), color='orange', linestyle='--', linewidth=2, label='50th')\n",
    "ax2.axvline(smoker.quantile(0.75), color='red', linestyle='--', linewidth=2, label='75th')\n",
    "ax2.set_title('Smokers', fontsize=14, fontweight='bold')\n",
    "ax2.set_xlabel('Insurance Charges ($)')\n",
    "ax2.legend()\n",
    "\n",
    "plt.tight_layout()\n",
    "plt.show()\n",
    "\n",
    "print(f\"Non-smokers: ${nonsmoker.quantile(0.25):,.0f} | ${nonsmoker.quantile(0.5):,.0f} | ${nonsmoker.quantile(0.75):,.0f}\")\n",
    "print(f\"Smokers:     ${smoker.quantile(0.25):,.0f} | ${smoker.quantile(0.5):,.0f} | ${smoker.quantile(0.75):,.0f}\")\n",
    "\n",
    "ns_range = nonsmoker.quantile(0.75) - nonsmoker.quantile(0.25)\n",
    "s_range = smoker.quantile(0.75) - smoker.quantile(0.25)\n",
    "print(f\"Smoker range ({s_range:,.0f}) is {s_range/ns_range:.1f}x larger than non-smoker range ({ns_range:,.0f})\")"
   ]
  },
  {
   "cell_type": "code",
   "execution_count": null,
   "id": "1a863f14",
   "metadata": {},
   "outputs": [],
   "source": [
    "# Simple Distribution with Softer Pastel Colors\n",
    "import matplotlib.pyplot as plt\n",
    "\n",
    "# Get data\n",
    "nonsmoker = df[df['smoker'] == 'no']['charges']\n",
    "smoker = df[df['smoker'] == 'yes']['charges']\n",
    "\n",
    "# Clean side-by-side plot with pastel quantile lines\n",
    "fig, (ax1, ax2) = plt.subplots(1, 2, figsize=(10, 4))\n",
    "\n",
    "# Non-smokers with softer colors\n",
    "ax1.hist(nonsmoker, bins=20, color='lightsteelblue', alpha=0.7, edgecolor='white')\n",
    "ax1.axvline(nonsmoker.quantile(0.25), color='mediumseagreen', linestyle='--', linewidth=2, label='25th')\n",
    "ax1.axvline(nonsmoker.quantile(0.5), color='sandybrown', linestyle='--', linewidth=2, label='50th')\n",
    "ax1.axvline(nonsmoker.quantile(0.75), color='lightcoral', linestyle='--', linewidth=2, label='75th')\n",
    "ax1.set_title('Non-Smokers', fontsize=14, fontweight='bold')\n",
    "ax1.set_xlabel('Insurance Charges ($)')\n",
    "ax1.legend()\n",
    "\n",
    "# Smokers with softer colors\n",
    "ax2.hist(smoker, bins=20, color='steelblue', alpha=0.7, edgecolor='white')\n",
    "ax2.axvline(smoker.quantile(0.25), color='mediumseagreen', linestyle='--', linewidth=2, label='25th')\n",
    "ax2.axvline(smoker.quantile(0.5), color='sandybrown', linestyle='--', linewidth=2, label='50th')\n",
    "ax2.axvline(smoker.quantile(0.75), color='lightcoral', linestyle='--', linewidth=2, label='75th')\n",
    "ax2.set_title('Smokers', fontsize=14, fontweight='bold')\n",
    "ax2.set_xlabel('Insurance Charges ($)')\n",
    "ax2.legend()\n",
    "\n",
    "plt.tight_layout()\n",
    "plt.show()\n",
    "\n",
    "# Simple quantile comparison\n",
    "print(\"📊 QUANTILE COMPARISON (25th, 50th, 75th):\")\n",
    "print(f\"Non-smokers: ${nonsmoker.quantile(0.25):,.0f} | ${nonsmoker.quantile(0.5):,.0f} | ${nonsmoker.quantile(0.75):,.0f}\")\n",
    "print(f\"Smokers:     ${smoker.quantile(0.25):,.0f} | ${smoker.quantile(0.5):,.0f} | ${smoker.quantile(0.75):,.0f}\")\n",
    "\n",
    "# Range comparison\n",
    "ns_range = nonsmoker.quantile(0.75) - nonsmoker.quantile(0.25)\n",
    "s_range = smoker.quantile(0.75) - smoker.quantile(0.25)\n",
    "print(f\"💡 Smoker range ({s_range:,.0f}) is {s_range/ns_range:.1f}x larger than non-smoker range ({ns_range:,.0f})\")"
   ]
  }
 ],
 "metadata": {
  "kernelspec": {
   "display_name": "msds692",
   "language": "python",
   "name": "python3"
  },
  "language_info": {
   "codemirror_mode": {
    "name": "ipython",
    "version": 3
   },
   "file_extension": ".py",
   "mimetype": "text/x-python",
   "name": "python",
   "nbconvert_exporter": "python",
   "pygments_lexer": "ipython3",
   "version": "3.13.5"
  }
 },
 "nbformat": 4,
 "nbformat_minor": 5
}
